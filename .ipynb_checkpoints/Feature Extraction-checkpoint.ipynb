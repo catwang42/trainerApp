{
 "cells": [
  {
   "cell_type": "code",
   "execution_count": 47,
   "metadata": {
    "collapsed": false
   },
   "outputs": [],
   "source": [
    "import numpy as np\n",
    "import pandas as pd\n",
    "import matplotlib.pyplot as plt\n",
    "from ai_trainer import Personal_Trainer\n",
    "import squat_separation as ss\n",
    "import coords5 as cd3\n",
    "import sys\n",
    "\n",
    "sys.path.append('data/squat_pushupData_10to20')\n",
    "\n",
    "%matplotlib inline"
   ]
  },
  {
   "cell_type": "markdown",
   "metadata": {},
   "source": [
    "#Step 1: Get Squats"
   ]
  },
  {
   "cell_type": "code",
   "execution_count": 34,
   "metadata": {
    "collapsed": false
   },
   "outputs": [],
   "source": [
    "#=====[ Parses a text file into an array of coords ]=====\n",
    "data = []\n",
    "with open('data/squat_pushupData_10to20/squatData15.txt') as f:\n",
    "    for line in f:\n",
    "        data.append([float(x.replace('\\r\\n','')) for x in line.split(',')])\n"
   ]
  },
  {
   "cell_type": "code",
   "execution_count": 73,
   "metadata": {
    "collapsed": false
   },
   "outputs": [
    {
     "ename": "TypeError",
     "evalue": "'NoneType' object has no attribute '__getitem__'",
     "output_type": "error",
     "traceback": [
      "\u001b[0;31m---------------------------------------------------------------------------\u001b[0m",
      "\u001b[0;31mTypeError\u001b[0m                                 Traceback (most recent call last)",
      "\u001b[0;32m<ipython-input-73-062ac1787c9c>\u001b[0m in \u001b[0;36m<module>\u001b[0;34m()\u001b[0m\n\u001b[1;32m      4\u001b[0m \u001b[0;31m# squats = pt.analyze_squats(data, 1, z_coords=True)\u001b[0m\u001b[0;34m\u001b[0m\u001b[0;34m\u001b[0m\u001b[0m\n\u001b[1;32m      5\u001b[0m \u001b[0msquats\u001b[0m \u001b[0;34m=\u001b[0m \u001b[0mpt\u001b[0m\u001b[0;34m.\u001b[0m\u001b[0mload_squats\u001b[0m\u001b[0;34m(\u001b[0m\u001b[0;34m'squats10.p'\u001b[0m\u001b[0;34m)\u001b[0m\u001b[0;34m\u001b[0m\u001b[0m\n\u001b[0;32m----> 6\u001b[0;31m \u001b[0;32mprint\u001b[0m \u001b[0msquats\u001b[0m\u001b[0;34m[\u001b[0m\u001b[0;36m0\u001b[0m\u001b[0;34m]\u001b[0m\u001b[0;34m\u001b[0m\u001b[0m\n\u001b[0m\u001b[1;32m      7\u001b[0m \u001b[0;34m\u001b[0m\u001b[0m\n\u001b[1;32m      8\u001b[0m \u001b[0;31m# Use the line immediately below for data pulled directly from a .py file (array of coords + label)\u001b[0m\u001b[0;34m\u001b[0m\u001b[0;34m\u001b[0m\u001b[0m\n",
      "\u001b[0;31mTypeError\u001b[0m: 'NoneType' object has no attribute '__getitem__'"
     ]
    }
   ],
   "source": [
    "pt = Personal_Trainer('NeckY')\n",
    "\n",
    "#Use the line immediately below for data pulle drom text files and parsed in the function above. Label is specified manually\n",
    "# squats = pt.analyze_squats(data, 1, z_coords=True)\n",
    "squats = pt.load_reps('squats10.p')\n",
    "\n",
    "# Use the line immediately below for data pulled directly from a .py file (array of coords + label)\n",
    "# squats = pt.analyze_squats(cd3.data,cd3.label)"
   ]
  },
  {
   "cell_type": "markdown",
   "metadata": {
    "collapsed": false
   },
   "source": [
    "#Step 2: Extract Features"
   ]
  },
  {
   "cell_type": "markdown",
   "metadata": {},
   "source": [
    "##V1 Features:\n",
    "\n",
    "4 Frames\n",
    "\n",
    "- All coordinates of starting position\n",
    "- All coordintes halfway between starting and squat position\n",
    "- All coordinates in squat position\n",
    "- All coordinates halfway between squat position and ending position"
   ]
  },
  {
   "cell_type": "code",
   "execution_count": 64,
   "metadata": {
    "collapsed": false
   },
   "outputs": [],
   "source": [
    "#======[ Returns index to frame with minimum y-coord for specified key ]=====\n",
    "def get_min(squat,key):   \n",
    "    \n",
    "    #=====[ Return max because of inverse frame of reference of kinect ]=====\n",
    "    return max([(coord,index) for index, coord in enumerate(squat[key])])[1]"
   ]
  },
  {
   "cell_type": "code",
   "execution_count": 65,
   "metadata": {
    "collapsed": false
   },
   "outputs": [],
   "source": [
    "#=====[ Returns index to frame with y-coord closes to the midpoint between start/end and squat position for specified key ]=====\n",
    "def get_midpoint(squat,start,key):\n",
    "    \n",
    "    #=====[ Decide whether getting midpoint between start and squat or squat and end ]=====\n",
    "    if start:\n",
    "        start = 1\n",
    "        end = get_min(squat,key)\n",
    "    else:\n",
    "        start = get_min(squat,key)\n",
    "        end = squat.shape[0] - 1\n",
    "        \n",
    "    true_mid = (squat.iloc[end][key] - squat.iloc[start][key])/2\n",
    "    deltas = [(np.abs(true_mid - (squat.iloc[end][key] - squat.iloc[index][key])), index) for index in range(start,end)]\n",
    "    return min(deltas)[1]"
   ]
  },
  {
   "cell_type": "code",
   "execution_count": 66,
   "metadata": {
    "collapsed": false
   },
   "outputs": [],
   "source": [
    "#=====[ Returns squat at the first position ]=====\n",
    "def starting_position(squat):\n",
    "    return squat.iloc[[1]]"
   ]
  },
  {
   "cell_type": "code",
   "execution_count": 67,
   "metadata": {
    "collapsed": false
   },
   "outputs": [],
   "source": [
    "#=====[ Returns index to frame with y-coord closes to the midpoint between start and squat position for specified key ]=====\n",
    "def start_to_squat(squat,key):\n",
    "    return squat.iloc[[get_midpoint(squat,start=1,key=key)]]"
   ]
  },
  {
   "cell_type": "code",
   "execution_count": 68,
   "metadata": {
    "collapsed": true
   },
   "outputs": [],
   "source": [
    "#=====[ Returns frame with minimum y-coord for specified key ]=====\n",
    "def squat_position(squat,key):\n",
    "    return squat.iloc[[get_min(squat,key)]]"
   ]
  },
  {
   "cell_type": "code",
   "execution_count": 69,
   "metadata": {
    "collapsed": true
   },
   "outputs": [],
   "source": [
    "#=====[ Returns index to frame with y-coord closes to the midpoint between squat position and end for specified key ]=====\n",
    "def squat_to_end(squat,key):\n",
    "    return squat.iloc[[get_midpoint(squat,start=0,key=key)]]"
   ]
  },
  {
   "cell_type": "markdown",
   "metadata": {},
   "source": [
    "#Sample Extracted Frames"
   ]
  },
  {
   "cell_type": "code",
   "execution_count": 71,
   "metadata": {
    "collapsed": true
   },
   "outputs": [],
   "source": [
    "#=====[ function for plotting full set of 25 coordinates for a given frame ]=====\n",
    "def plotBody(df, z_coords=False):\n",
    "    coords = np.array(df)\n",
    "    print coords\n",
    "    print coords.size\n",
    "    if not z_coords:\n",
    "        xs = [coords[0][i] for i in range(0,coords.size) if i % 2 == 0]\n",
    "        #=====[ Plot -1* coords because of kinect's frame of reference ]=====\n",
    "        ys = [-1*coords[0][i] for i in range(0,coords.size) if i % 2 == 1]\n",
    "    else:\n",
    "        xs = [coords[0][i] for i in range(0,coords.size) if i % 3 == 0]\n",
    "        #=====[ Plot -1* coords because of kinect's frame of reference ]=====\n",
    "        ys = [-1*coords[0][i] for i in range(0,coords.size) if i % 3 == 1]\n",
    "        print \"X: %d; Y:%d\" % (len(xs), len(ys))\n",
    "    plt.plot(xs,ys,linestyle='None',marker='o')\n",
    "    plt.axis([-1,1,-1,1])\n",
    "#     print xs\n",
    "#     print ys\n"
   ]
  },
  {
   "cell_type": "markdown",
   "metadata": {},
   "source": [
    "##Initial State"
   ]
  },
  {
   "cell_type": "code",
   "execution_count": 72,
   "metadata": {
    "collapsed": false
   },
   "outputs": [
    {
     "ename": "TypeError",
     "evalue": "'NoneType' object has no attribute '__getitem__'",
     "output_type": "error",
     "traceback": [
      "\u001b[0;31m---------------------------------------------------------------------------\u001b[0m",
      "\u001b[0;31mTypeError\u001b[0m                                 Traceback (most recent call last)",
      "\u001b[0;32m<ipython-input-72-2301be271b76>\u001b[0m in \u001b[0;36m<module>\u001b[0;34m()\u001b[0m\n\u001b[0;32m----> 1\u001b[0;31m \u001b[0mfset1\u001b[0m \u001b[0;34m=\u001b[0m \u001b[0mnp\u001b[0m\u001b[0;34m.\u001b[0m\u001b[0marray\u001b[0m\u001b[0;34m(\u001b[0m\u001b[0mstarting_position\u001b[0m\u001b[0;34m(\u001b[0m\u001b[0msquats\u001b[0m\u001b[0;34m[\u001b[0m\u001b[0;36m0\u001b[0m\u001b[0;34m]\u001b[0m\u001b[0;34m[\u001b[0m\u001b[0;36m0\u001b[0m\u001b[0;34m]\u001b[0m\u001b[0;34m)\u001b[0m\u001b[0;34m)\u001b[0m\u001b[0;34m\u001b[0m\u001b[0m\n\u001b[0m\u001b[1;32m      2\u001b[0m \u001b[0mplotBody\u001b[0m\u001b[0;34m(\u001b[0m\u001b[0mfset1\u001b[0m\u001b[0;34m,\u001b[0m\u001b[0mz_coords\u001b[0m\u001b[0;34m=\u001b[0m\u001b[0mTrue\u001b[0m\u001b[0;34m)\u001b[0m\u001b[0;34m\u001b[0m\u001b[0m\n",
      "\u001b[0;31mTypeError\u001b[0m: 'NoneType' object has no attribute '__getitem__'"
     ]
    }
   ],
   "source": [
    "fset1 = np.array(starting_position(squats[0][0]))\n",
    "plotBody(fset1,z_coords=True)"
   ]
  },
  {
   "cell_type": "markdown",
   "metadata": {},
   "source": [
    "##In between start and squat position"
   ]
  },
  {
   "cell_type": "code",
   "execution_count": 59,
   "metadata": {
    "collapsed": false
   },
   "outputs": [
    {
     "name": "stdout",
     "output_type": "stream",
     "text": [
      "[[ 0.00395864  0.53840899  0.00680882  0.40093388  0.00945196  0.25737252\n",
      "   0.01867831  0.17470848 -0.07488421  0.27674373 -0.16028387  0.17648881\n",
      "  -0.06384563  0.15203137 -0.04071658  0.15793259  0.09361681  0.27967189\n",
      "   0.18363527  0.1931797   0.29965295  0.17811227  0.34140614  0.17268731\n",
      "  -0.03591161  0.5386499  -0.10162156  0.66053414 -0.11829889  0.92917649\n",
      "  -0.13279341  0.99805365  0.04385465  0.53822749  0.10651081  0.64597132\n",
      "   0.10906855  0.94659702  0.12976415  1.00443117  0.00881722  0.29409693\n",
      "  -0.04284442  0.13944247 -0.02295476  0.14916566  0.32925613  0.15596362\n",
      "   0.34217084  0.1766671 ]]\n",
      "50\n",
      "[0.003958635015252062, 0.0068088162192099146, 0.0094519570198762955, 0.018678307513341048, -0.07488420716901599, -0.16028387264685981, -0.063845634276010338, -0.040716576962753714, 0.093616806527241428, 0.1836352733497339, 0.29965295133703607, 0.34140613684071064, -0.035911608038082979, -0.10162156238032971, -0.11829889190907149, -0.13279340796858563, 0.043854645597044682, 0.1065108102517749, 0.10906854688608489, 0.12976414806798298, 0.0088172206530584916, -0.042844423455347953, -0.022954760799837132, 0.32925612830451129, 0.34217083606937371]\n",
      "[-0.53840899070700687, -0.40093388161907978, -0.25737251606722378, -0.17470848443977702, -0.27674373379982786, -0.1764888068641319, -0.1520313715720665, -0.15793258567555518, -0.27967189272089132, -0.19317969528884965, -0.1781122736786093, -0.17268730876365748, -0.5386499002197469, -0.66053413554738449, -0.92917648526242225, -0.99805365142615687, -0.53822749278825754, -0.64597131865917656, -0.94659702232578968, -1.0044311709791687, -0.29409692647115054, -0.13944247113748684, -0.14916566233786291, -0.15596362018809448, -0.17666709790707155]\n"
     ]
    },
    {
     "data": {
      "image/png": "[encoded data removed]",
      "text/plain": [
       "<matplotlib.figure.Figure at 0x1112b5410>"
      ]
     },
     "metadata": {},
     "output_type": "display_data"
    }
   ],
   "source": [
    "fset2 = start_to_squat(squats[0][0],'NeckY')\n",
    "plotBody(fset2)"
   ]
  },
  {
   "cell_type": "markdown",
   "metadata": {},
   "source": [
    "##In squat position"
   ]
  },
  {
   "cell_type": "code",
   "execution_count": 60,
   "metadata": {
    "collapsed": false
   },
   "outputs": [
    {
     "name": "stdout",
     "output_type": "stream",
     "text": [
      "[[ 0.00742262  0.67036653 -0.01636187  0.5540348  -0.0404544   0.42425153\n",
      "   0.00871899  0.3776986  -0.08608751  0.46226763 -0.17391326  0.39517754\n",
      "  -0.27577962  0.34549386 -0.26906431  0.33902824  0.06854433  0.46414731\n",
      "   0.19032448  0.42129608  0.29801036  0.36547079  0.33662778  0.34548289\n",
      "  -0.03208192  0.6687452  -0.12570092  0.68489098 -0.11406542  0.94691332\n",
      "  -0.13391396  1.01005209  0.04736027  0.67216103  0.12055017  0.68959248\n",
      "   0.10588485  0.95945401  0.13108808  1.0143241  -0.03428882  0.45800063\n",
      "  -0.26060254  0.30921988 -0.2569242   0.37180431  0.32384191  0.3273906\n",
      "   0.33752897  0.34633902]]\n",
      "50\n",
      "[0.0074226235017796063, -0.016361874218623597, -0.040454400799895776, 0.0087189889834555622, -0.086087512208981573, -0.17391326362991891, -0.27577961753054725, -0.26906430705869405, 0.068544326211058881, 0.19032447872725952, 0.29801035578965107, 0.33662777935918153, -0.03208192318705344, -0.12570092389248219, -0.1140654220106502, -0.13391395789040178, 0.047360267208145547, 0.12055017498992966, 0.105884850597706, 0.13108808142944223, -0.034288816355360047, -0.26060254327193449, -0.2569242004548295, 0.3238419092365819, 0.33752896772327412]\n",
      "[-0.67036652930829788, -0.55403480253535597, -0.42425152573446329, -0.37769860357718005, -0.46226763195878928, -0.39517753953690987, -0.3454938626726326, -0.33902823842626467, -0.4641473112723366, -0.42129608023850751, -0.36547078610681188, -0.34548289178169816, -0.66874520041103069, -0.68489097620872097, -0.94691332155059726, -1.0100520928845123, -0.67216102949940404, -0.68959248119272698, -0.95945400632604005, -1.0143241015536548, -0.45800063051679291, -0.30921987766781733, -0.37180430957412469, -0.32739059862722619, -0.3463390151014884]\n"
     ]
    },
    {
     "data": {
      "image/png": "[encoded data removed]",
      "text/plain": [
       "<matplotlib.figure.Figure at 0x111549cd0>"
      ]
     },
     "metadata": {},
     "output_type": "display_data"
    }
   ],
   "source": [
    "fset3 = np.array(squat_position(squats[0][0],'NeckY'))\n",
    "plotBody(fset3)"
   ]
  },
  {
   "cell_type": "markdown",
   "metadata": {},
   "source": [
    "##Going from squat to end"
   ]
  },
  {
   "cell_type": "code",
   "execution_count": 61,
   "metadata": {
    "collapsed": false
   },
   "outputs": [
    {
     "name": "stdout",
     "output_type": "stream",
     "text": [
      "[[ 0.00467337  0.55027319  0.00396921  0.41875803  0.00310864  0.27588041\n",
      "   0.01527891  0.20078911 -0.07174057  0.30414891 -0.15559626  0.21113522\n",
      "  -0.2485277   0.18012366 -0.28268959  0.1687199   0.08800376  0.30244504\n",
      "   0.17698455  0.22912832  0.08581026  0.17611495  0.06352753  0.17705147\n",
      "  -0.03422969  0.54944886 -0.10054765  0.66548386 -0.1189383   0.92791646\n",
      "  -0.13739589  0.99581356  0.04375675  0.55109663  0.10400866  0.6563841\n",
      "   0.10713801  0.94865516  0.13421473  1.00694964  0.00334089  0.31273641\n",
      "  -0.27838821  0.1426426  -0.29416452  0.14601764  0.05426     0.14068044\n",
      "   0.04648057  0.19048704]]\n",
      "50\n",
      "[0.0046733744944278607, 0.0039692120793339029, 0.0031086441421902459, 0.015278906630883229, -0.07174056869779305, -0.1555962641247034, -0.24852769940388714, -0.28268959099027696, 0.088003761158980481, 0.17698455048195061, 0.0858102581037129, 0.063527534699873378, -0.034229686066267757, -0.10054765281023308, -0.11893829793715857, -0.13739589362927995, 0.043756751493315212, 0.1040086594648668, 0.10713800764738771, 0.13421472908495996, 0.0033408894641390571, -0.27838821409001435, -0.29416452403760035, 0.054260001169666866, 0.046480570538090488]\n",
      "[-0.55027319346910086, -0.41875803494690211, -0.27588040907470585, -0.20078910524142152, -0.30414890683370321, -0.21113521800299739, -0.18012365994435178, -0.16871989703565832, -0.30244504308001563, -0.22912832305121739, -0.17611495265765295, -0.17705147291665352, -0.54944885760253526, -0.66548386397141623, -0.92791646437328246, -0.99581356428015255, -0.55109662916000357, -0.65638410068104647, -0.94865516146521334, -1.0069496374500313, -0.31273641390887369, -0.1426425956317815, -0.14601763551026564, -0.14068043772279637, -0.19048704482652731]\n"
     ]
    },
    {
     "data": {
      "image/png": "[encoded data removed]",
      "text/plain": [
       "<matplotlib.figure.Figure at 0x10c866d90>"
      ]
     },
     "metadata": {},
     "output_type": "display_data"
    }
   ],
   "source": [
    "fset4 = np.array(squat_to_end(squats[1][0],'NeckY'))\n",
    "plotBody(fset4)"
   ]
  },
  {
   "cell_type": "markdown",
   "metadata": {},
   "source": [
    "#Step 3: Combine frames to make feature vector"
   ]
  },
  {
   "cell_type": "code",
   "execution_count": 62,
   "metadata": {
    "collapsed": false
   },
   "outputs": [
    {
     "name": "stdout",
     "output_type": "stream",
     "text": [
      "(1, 200)\n"
     ]
    }
   ],
   "source": [
    "feature_vector = np.concatenate([fset1,fset2,fset3,fset4],axis=1)\n",
    "print feature_vector.shape"
   ]
  },
  {
   "cell_type": "code",
   "execution_count": null,
   "metadata": {
    "collapsed": true
   },
   "outputs": [],
   "source": []
  },
  {
   "cell_type": "code",
   "execution_count": null,
   "metadata": {
    "collapsed": true
   },
   "outputs": [],
   "source": []
  }
 ],
 "metadata": {
  "kernelspec": {
   "display_name": "Python 2",
   "language": "python",
   "name": "python2"
  },
  "language_info": {
   "codemirror_mode": {
    "name": "ipython",
    "version": 2
   },
   "file_extension": ".py",
   "mimetype": "text/x-python",
   "name": "python",
   "nbconvert_exporter": "python",
   "pygments_lexer": "ipython2",
   "version": "2.7.10"
  }
 },
 "nbformat": 4,
 "nbformat_minor": 0
}
