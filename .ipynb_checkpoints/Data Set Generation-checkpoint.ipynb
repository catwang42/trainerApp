{
 "cells": [
  {
   "cell_type": "code",
   "execution_count": 1,
   "metadata": {
    "collapsed": true
   },
   "outputs": [],
   "source": [
    "import numpy as np\n",
    "import pandas as pd\n",
    "import matplotlib.pyplot as plt\n",
    "from ai_trainer import Personal_Trainer\n",
    "import squat_separation as ss\n",
    "import sys\n",
    "import pickle\n",
    "\n",
    "sys.path.append('data')\n",
    "\n",
    "%matplotlib inline"
   ]
  },
  {
   "cell_type": "code",
   "execution_count": 2,
   "metadata": {
    "collapsed": true
   },
   "outputs": [],
   "source": [
    "#=====[ Import all of our data ]=====\n",
    "\n",
    "import coords1 as cd1\n",
    "import coords2 as cd2\n",
    "import coords3 as cd3\n",
    "import coords4 as cd4\n",
    "import coords5 as cd5\n",
    "import coords6 as cd6\n",
    "import coords7 as cd7\n",
    "import coords8 as cd8\n",
    "import coords9 as cd9"
   ]
  },
  {
   "cell_type": "code",
   "execution_count": 3,
   "metadata": {
    "collapsed": true
   },
   "outputs": [],
   "source": [
    "#data = [cd1.data, cd2.data, cd3.data, cd4.data, cd5.data, cd6.data, cd7.data, cd8.data, cd9.data]\n",
    "#labels = [cd1.label, cd2.label, cd3.label, cd4.label, cd5.label, cd6.label, cd7.label, cd8.label, cd9.label]\n",
    "\n",
    "data = [cd1.data, cd2.data, cd5.data, cd6.data, cd7.data, cd8.data]\n",
    "labels = [cd1.label, cd2.label, cd5.label, cd6.label, cd7.label, cd8.label]"
   ]
  },
  {
   "cell_type": "code",
   "execution_count": null,
   "metadata": {
    "collapsed": true
   },
   "outputs": [],
   "source": [
    "pt = Personal_Trainer()\n",
    "\n",
    "\n",
    "for index, datum in enumerate(data):\n",
    "    pt.analyze_squats(datum, labels[index])\n",
    "    "
   ]
  }
 ],
 "metadata": {
  "kernelspec": {
   "display_name": "Python 2",
   "language": "python",
   "name": "python2"
  },
  "language_info": {
   "codemirror_mode": {
    "name": "ipython",
    "version": 2
   },
   "file_extension": ".py",
   "mimetype": "text/x-python",
   "name": "python",
   "nbconvert_exporter": "python",
   "pygments_lexer": "ipython2",
   "version": "2.7.10"
  }
 },
 "nbformat": 4,
 "nbformat_minor": 0
}
