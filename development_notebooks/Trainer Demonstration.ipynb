{
 "cells": [
  {
   "cell_type": "code",
   "execution_count": 10,
   "metadata": {
    "collapsed": false
   },
   "outputs": [
    {
     "name": "stdout",
     "output_type": "stream",
     "text": [
      "The autoreload extension is already loaded. To reload it, use:\n",
      "  %reload_ext autoreload\n"
     ]
    }
   ],
   "source": [
    "%load_ext autoreload\n",
    "%autoreload 2\n",
    "\n",
    "#=====[ Import Dependencies ]=====\n",
    "import sys\n",
    "sys.path.append('..')\n",
    "from ai_trainer_nb import Personal_Trainer"
   ]
  },
  {
   "cell_type": "markdown",
   "metadata": {},
   "source": [
    "# Step 1: Instantiate our Personal Trainer"
   ]
  },
  {
   "cell_type": "code",
   "execution_count": 11,
   "metadata": {
    "collapsed": false
   },
   "outputs": [],
   "source": [
    "pt = Personal_Trainer({'squat':'NeckY','pushup':'NeckY'}, auto_start=True)"
   ]
  },
  {
   "cell_type": "markdown",
   "metadata": {},
   "source": [
    "# Step 2a: Analyze Squats (verbose=false)"
   ]
  },
  {
   "cell_type": "code",
   "execution_count": 13,
   "metadata": {
    "collapsed": false
   },
   "outputs": [
    {
     "name": "stdout",
     "output_type": "stream",
     "text": [
      "\n",
      "\n",
      "###################################################################\n",
      "########################### Feedback ##############################\n",
      "###################################################################\n",
      "\n",
      "\n",
      "A total of 10 reps were analyzed\n",
      "\n",
      "\n",
      "Major Problems:\n",
      "\n",
      "Knee and Toe Alignment:keep your knees behind your toes\n",
      "\n",
      "\n",
      "\n",
      "Minor Problems:\n",
      "\n",
      "Stance:keep feet shoulder width apart\n",
      "Depth:go deep on the squat\n",
      "\n",
      "\n",
      "\n",
      "Strengths:\n",
      "\n",
      "Hip and Knee Coordination\n",
      "\n"
     ]
    },
    {
     "data": {
      "text/plain": [
       "'A total of 10 reps were analyzed\\n\\n\\nMajor Problems:\\n\\nKnee and Toe Alignment:keep your knees behind your toes\\n\\n\\n\\nMinor Problems:\\n\\nStance:keep feet shoulder width apart\\nDepth:go deep on the squat\\n\\n\\n\\nStrengths:\\n\\nHip and Knee Coordination\\n\\n'"
      ]
     },
     "execution_count": 13,
     "metadata": {},
     "output_type": "execute_result"
    }
   ],
   "source": [
    "#=====[ Analyzing a random raw coordinate file within the data store ]======\n",
    "pt.analyze_reps('squat','../data/raw_data/squat_pushupData_10to20/squatData15.txt',auto_analyze=True, verbose=False)"
   ]
  },
  {
   "cell_type": "markdown",
   "metadata": {},
   "source": [
    "# Step 2b: Analyze squats (verbose=True)"
   ]
  },
  {
   "cell_type": "code",
   "execution_count": 6,
   "metadata": {
    "collapsed": false
   },
   "outputs": [
    {
     "name": "stdout",
     "output_type": "stream",
     "text": [
      "[SUCCESS] ---------- > Reps segmented and normalized for squat\n",
      "[SUCCESS] ---------- > Features extracted for squat\n",
      "\n",
      "\n",
      "###################################################################\n",
      "######################## Classification ###########################\n",
      "###################################################################\n",
      "\n",
      "\n",
      "[SUCCESS] ---------- > bend_hips_knees: reps classified\n",
      "\n",
      "\n",
      "bend_hips_knees :\n",
      "[0 0 0 0 0 0 0 0 0 0] \n",
      "\n",
      "[SUCCESS] ---------- > stance_width: reps classified\n",
      "\n",
      "\n",
      "stance_width :\n",
      "[-1  0 -1 -1  0  0  0  0  0  0] \n",
      "\n",
      "[SUCCESS] ---------- > squat_depth: reps classified\n",
      "\n",
      "\n",
      "squat_depth :\n",
      "[1 0 1 1 1 0 0 0 0 0] \n",
      "\n",
      "[SUCCESS] ---------- > knees_over_toes: reps classified\n",
      "\n",
      "\n",
      "knees_over_toes :\n",
      "[1 1 1 0 1 1 1 1 1 1] \n",
      "\n",
      "[SUCCESS] ---------- > back_hip_angle: reps classified\n",
      "\n",
      "\n",
      "back_hip_angle :\n",
      "[ 0  0  0  1  0  0  1  0 -1  0] \n",
      "\n",
      "\n",
      "\n",
      "###################################################################\n",
      "########################### Feedback ##############################\n",
      "###################################################################\n",
      "\n",
      "\n",
      "A total of 10 reps were analyzed\n",
      "\n",
      "\n",
      "Major Problems:\n",
      "\n",
      "Knee and Toe Alignment:keep your knees behind your toes\n",
      "\n",
      "\n",
      "\n",
      "Minor Problems:\n",
      "\n",
      "Stance:keep feet shoulder width apart\n",
      "Depth:go deep on the squat\n",
      "\n",
      "\n",
      "\n",
      "Strengths:\n",
      "\n",
      "Hip and Knee Coordination\n",
      "\n"
     ]
    },
    {
     "data": {
      "text/plain": [
       "'A total of 10 reps were analyzed\\n\\n\\nMajor Problems:\\n\\nKnee and Toe Alignment:keep your knees behind your toes\\n\\n\\n\\nMinor Problems:\\n\\nStance:keep feet shoulder width apart\\nDepth:go deep on the squat\\n\\n\\n\\nStrengths:\\n\\nHip and Knee Coordination\\n\\n'"
      ]
     },
     "execution_count": 6,
     "metadata": {},
     "output_type": "execute_result"
    }
   ],
   "source": [
    "#=====[ Analyzing a random raw coordinate file within the data store ]======\n",
    "pt.analyze_reps('squat','../data/raw_data/squat_pushupData_10to20/squatData15.txt',auto_analyze=True, verbose=True)"
   ]
  },
  {
   "cell_type": "markdown",
   "metadata": {},
   "source": [
    "# Step 3: Analyze pushups (verbose=True)"
   ]
  },
  {
   "cell_type": "code",
   "execution_count": null,
   "metadata": {
    "collapsed": false
   },
   "outputs": [],
   "source": [
    "pt.analyze_reps('pushup','../data/raw_data/squat_pushupData_10to20/pushupData16.txt',auto_analyze=True, verbose=True)"
   ]
  }
 ],
 "metadata": {
  "kernelspec": {
   "display_name": "Python 2",
   "language": "python",
   "name": "python2"
  },
  "language_info": {
   "codemirror_mode": {
    "name": "ipython",
    "version": 2
   },
   "file_extension": ".py",
   "mimetype": "text/x-python",
   "name": "python",
   "nbconvert_exporter": "python",
   "pygments_lexer": "ipython2",
   "version": "2.7.11"
  }
 },
 "nbformat": 4,
 "nbformat_minor": 0
}
