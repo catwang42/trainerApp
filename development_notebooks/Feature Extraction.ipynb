{
 "cells": [
  {
   "cell_type": "code",
   "execution_count": 1,
   "metadata": {
    "collapsed": false
   },
   "outputs": [],
   "source": [
    "import sys\n",
    "\n",
    "sys.path.append('..')\n",
    "sys.path.append('../inference')\n",
    "sys.path.append('../data')\n",
    "\n",
    "import numpy as np\n",
    "import pandas as pd\n",
    "import matplotlib.pyplot as plt\n",
    "from ai_trainer import Personal_Trainer\n",
    "import squat_separation as ss\n",
    "import os\n",
    "\n",
    "%matplotlib inline"
   ]
  },
  {
   "cell_type": "markdown",
   "metadata": {},
   "source": [
    "#Step 1: Get Squats"
   ]
  },
  {
   "cell_type": "code",
   "execution_count": 2,
   "metadata": {
    "collapsed": false
   },
   "outputs": [],
   "source": [
    "#=====[ Parses a text file into an array of coords ]=====\n",
    "data = []\n",
    "with open(os.path.join('../data/raw_data/squat_pushupData_10to20/','squatData15.txt')) as f:\n",
    "    for line in f:\n",
    "        data.append([float(x.replace('\\r\\n','')) for x in line.split(',')])\n",
    "        "
   ]
  },
  {
   "cell_type": "code",
   "execution_count": 3,
   "metadata": {
    "collapsed": false
   },
   "outputs": [
    {
     "name": "stdout",
     "output_type": "stream",
     "text": [
      "[SUCCESS] ---------- > Reps segmented and normalized\n"
     ]
    }
   ],
   "source": [
    "#=====[ Instantiate Personal Trainer with the key we want to use as our indicator for rep separation ]=====\n",
    "pt = Personal_Trainer({'squat':'NeckY'})\n",
    "\n",
    "#Use the line immediately below for data pulle drom text files and parsed in the function above. Label is specified manually\n",
    "squats = pt.analyze_reps('../data/raw_data/squat_pushupData_10to20/squatData17.txt','squat')\n",
    "# pt.load_reps('squats10.p')\n",
    "# squats = pt.get_reps()\n",
    "\n",
    "# Use the line immediately below for data pulled directly from a .py file (array of coords + label)\n",
    "# squats = pt.analyze_reps(cd3.data,cd3.label)"
   ]
  },
  {
   "cell_type": "markdown",
   "metadata": {
    "collapsed": false
   },
   "source": [
    "#Step 2: Extract Features"
   ]
  },
  {
   "cell_type": "markdown",
   "metadata": {},
   "source": [
    "##V1 Features:\n",
    "\n",
    "4 Frames\n",
    "\n",
    "- All coordinates of starting position\n",
    "- All coordintes halfway between starting and squat position\n",
    "- All coordinates in squat position\n",
    "- All coordinates halfway between squat position and ending position"
   ]
  },
  {
   "cell_type": "code",
   "execution_count": 4,
   "metadata": {
    "collapsed": false
   },
   "outputs": [],
   "source": [
    "#======[ Returns index to frame with minimum y-coord for specified key ]=====\n",
    "def get_min(squat,key):   \n",
    "    \n",
    "    #=====[ Return max because of inverse frame of reference of kinect ]=====\n",
    "    return max([(coord,index) for index, coord in enumerate(squat[key])])[1]"
   ]
  },
  {
   "cell_type": "code",
   "execution_count": 5,
   "metadata": {
    "collapsed": false
   },
   "outputs": [],
   "source": [
    "#=====[ Returns index to frame with y-coord closes to the midpoint between start/end and squat position for specified key ]=====\n",
    "def get_midpoint(squat,start,key):\n",
    "    \n",
    "    #=====[ Decide whether getting midpoint between start and squat or squat and end ]=====\n",
    "    if start:\n",
    "        start = 1\n",
    "        end = get_min(squat,key)\n",
    "    else:\n",
    "        start = get_min(squat,key)\n",
    "        end = squat.shape[0] - 1\n",
    "        \n",
    "    true_mid = (squat.iloc[end][key] - squat.iloc[start][key])/2\n",
    "    deltas = [(np.abs(true_mid - (squat.iloc[end][key] - squat.iloc[index][key])), index) for index in range(start,end)]\n",
    "    return min(deltas)[1]"
   ]
  },
  {
   "cell_type": "code",
   "execution_count": 6,
   "metadata": {
    "collapsed": false
   },
   "outputs": [],
   "source": [
    "#=====[ Returns squat at the first position ]=====\n",
    "def starting_position(squat):\n",
    "    return squat.iloc[[1]]"
   ]
  },
  {
   "cell_type": "code",
   "execution_count": 7,
   "metadata": {
    "collapsed": false
   },
   "outputs": [],
   "source": [
    "#=====[ Returns index to frame with y-coord closes to the midpoint between start and squat position for specified key ]=====\n",
    "def start_to_squat(squat,key):\n",
    "    return squat.iloc[[get_midpoint(squat,start=1,key=key)]]"
   ]
  },
  {
   "cell_type": "code",
   "execution_count": 8,
   "metadata": {
    "collapsed": true
   },
   "outputs": [],
   "source": [
    "#=====[ Returns frame with minimum y-coord for specified key ]=====\n",
    "def squat_position(squat,key):\n",
    "    return squat.iloc[[get_min(squat,key)]]"
   ]
  },
  {
   "cell_type": "code",
   "execution_count": 9,
   "metadata": {
    "collapsed": true
   },
   "outputs": [],
   "source": [
    "#=====[ Returns index to frame with y-coord closes to the midpoint between squat position and end for specified key ]=====\n",
    "def squat_to_end(squat,key):\n",
    "    return squat.iloc[[get_midpoint(squat,start=0,key=key)]]"
   ]
  },
  {
   "cell_type": "markdown",
   "metadata": {},
   "source": [
    "#Sample Extracted Frames"
   ]
  },
  {
   "cell_type": "code",
   "execution_count": 15,
   "metadata": {
    "collapsed": true
   },
   "outputs": [],
   "source": [
    "#=====[ function for plotting full set of 25 coordinates for a given frame ]=====\n",
    "def plotBody(df):\n",
    "    coords = np.array(df)\n",
    "    \n",
    "    xs = [coords[0][i] for i in range(0,coords.size) if i % 3 == 0]\n",
    "    #=====[ Plot -1* coords because of kinect's frame of reference ]=====\n",
    "    ys = [-1*coords[0][i] for i in range(0,coords.size) if i % 3 == 1]\n",
    "\n",
    "    plt.plot(xs,ys,linestyle='None',marker='o')\n",
    "    plt.axis([-0.6,0.6,-1.2,0.2])\n"
   ]
  },
  {
   "cell_type": "markdown",
   "metadata": {},
   "source": [
    "##Initial State"
   ]
  },
  {
   "cell_type": "code",
   "execution_count": 16,
   "metadata": {
    "collapsed": false
   },
   "outputs": [
    {
     "data": {
      "image/png": "[encoded data removed]",
      "text/plain": [
       "<matplotlib.figure.Figure at 0x10ba4d750>"
      ]
     },
     "metadata": {},
     "output_type": "display_data"
    }
   ],
   "source": [
    "fset1 = np.array(starting_position(squats[0]))\n",
    "plotBody(fset1)"
   ]
  },
  {
   "cell_type": "markdown",
   "metadata": {},
   "source": [
    "##In between start and squat position"
   ]
  },
  {
   "cell_type": "code",
   "execution_count": 19,
   "metadata": {
    "collapsed": false
   },
   "outputs": [
    {
     "data": {
      "image/png": "[encoded data removed]",
      "text/plain": [
       "<matplotlib.figure.Figure at 0x10b875fd0>"
      ]
     },
     "metadata": {},
     "output_type": "display_data"
    }
   ],
   "source": [
    "fset2 = start_to_squat(squats[0],'NeckY')\n",
    "plotBody(fset2)"
   ]
  },
  {
   "cell_type": "markdown",
   "metadata": {},
   "source": [
    "##In squat position"
   ]
  },
  {
   "cell_type": "code",
   "execution_count": 20,
   "metadata": {
    "collapsed": false
   },
   "outputs": [
    {
     "data": {
      "image/png": "[encoded data removed]",
      "text/plain": [
       "<matplotlib.figure.Figure at 0x10bdd83d0>"
      ]
     },
     "metadata": {},
     "output_type": "display_data"
    }
   ],
   "source": [
    "fset3 = np.array(squat_position(squats[0],'NeckY'))\n",
    "plotBody(fset3)"
   ]
  },
  {
   "cell_type": "markdown",
   "metadata": {},
   "source": [
    "##Going from squat to end"
   ]
  },
  {
   "cell_type": "code",
   "execution_count": 21,
   "metadata": {
    "collapsed": false
   },
   "outputs": [
    {
     "data": {
      "image/png": "[encoded data removed]",
      "text/plain": [
       "<matplotlib.figure.Figure at 0x10bb27b10>"
      ]
     },
     "metadata": {},
     "output_type": "display_data"
    }
   ],
   "source": [
    "fset4 = np.array(squat_to_end(squats[0],'NeckY'))\n",
    "plotBody(fset4)"
   ]
  },
  {
   "cell_type": "markdown",
   "metadata": {},
   "source": [
    "#Step 3: Combine frames to make feature vector"
   ]
  },
  {
   "cell_type": "code",
   "execution_count": 22,
   "metadata": {
    "collapsed": false
   },
   "outputs": [
    {
     "name": "stdout",
     "output_type": "stream",
     "text": [
      "(1, 300)\n"
     ]
    }
   ],
   "source": [
    "feature_vector = np.concatenate([fset1,fset2,fset3,fset4],axis=1)\n",
    "print feature_vector.shape"
   ]
  }
 ],
 "metadata": {
  "kernelspec": {
   "display_name": "Python 2",
   "language": "python",
   "name": "python2"
  },
  "language_info": {
   "codemirror_mode": {
    "name": "ipython",
    "version": 2
   },
   "file_extension": ".py",
   "mimetype": "text/x-python",
   "name": "python",
   "nbconvert_exporter": "python",
   "pygments_lexer": "ipython2",
   "version": "2.7.10"
  }
 },
 "nbformat": 4,
 "nbformat_minor": 0
}
