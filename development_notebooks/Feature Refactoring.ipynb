{
 "cells": [
  {
   "cell_type": "code",
   "execution_count": 1,
   "metadata": {
    "collapsed": true
   },
   "outputs": [],
   "source": [
    "#=====[ Import dependencies ]====\n",
    "import pandas as pd\n",
    "import numpy as np\n",
    "import matplotlib.pyplot as plt\n",
    "import sys\n",
    "import pickle\n",
    "import os\n",
    "from ai_trainer import Personal_Trainer\n",
    "\n",
    "sys.path.append('data')\n",
    "sys.path.append('squat_pushupData_10to20')\n",
    "\n",
    "%matplotlib inline"
   ]
  },
  {
   "cell_type": "code",
   "execution_count": 2,
   "metadata": {
    "collapsed": false
   },
   "outputs": [],
   "source": [
    "pt = Personal_Trainer('NeckY')\n",
    "pt.load_reps('multipleClass3.p')"
   ]
  },
  {
   "cell_type": "code",
   "execution_count": 3,
   "metadata": {
    "collapsed": false
   },
   "outputs": [],
   "source": [
    "squats = pt.get_squats()\n",
    "labels = pt.get_labels()\n",
    "squat = squats[0]"
   ]
  },
  {
   "cell_type": "code",
   "execution_count": 4,
   "metadata": {
    "collapsed": true
   },
   "outputs": [],
   "source": [
    "#======[ Returns index to frame with minimum y-coord for specified key ]=====\n",
    "def get_min(squat,key):   \n",
    "    \n",
    "    #=====[ Return max because of inverse frame of reference of kinect ]=====\n",
    "    return max([(coord,index) for index, coord in enumerate(squat[key])])[1]\n",
    "\n",
    "#=====[ Returns index to frame with y-coord closes to the midpoint between start/end and squat position for specified key ]=====\n",
    "def get_midpoint(squat,start,key):\n",
    "    \n",
    "    #=====[ Decide whether getting midpoint between start and squat or squat and end ]=====\n",
    "    if start:\n",
    "        start = 1\n",
    "        end = get_min(squat,key)\n",
    "    else:\n",
    "        start = get_min(squat,key)\n",
    "        end = squat.shape[0] - 1\n",
    "        \n",
    "    #=====[ Uses the 'true_mid' as an evaluation metric to find optimal index  ]=====\n",
    "    true_mid = (squat.iloc[end][key] - squat.iloc[start][key])/2\n",
    "    deltas = [(np.abs(true_mid - (squat.iloc[end][key] - squat.iloc[index][key])), index) for index in range(start,end)]\n",
    "    return min(deltas)[1]\n",
    "\n",
    "#=====[ Returns squat at the first position ]=====\n",
    "def starting_position(squat):\n",
    "    return squat.loc[1]\n",
    "\n",
    "#=====[ Returns index to frame with y-coord closes to the midpoint between start and squat position for specified key ]=====\n",
    "def start_to_squat(squat,key):\n",
    "    return squat.loc[get_midpoint(squat,start=1,key=key),:]\n",
    "\n",
    "#=====[ Returns frame with minimum y-coord for specified key ]=====\n",
    "def squat_position(squat,key):\n",
    "    return squat.loc[get_min(squat,key),:]\n",
    "\n",
    "#=====[ Returns index to frame with y-coord closes to the midpoint between squat position and end for specified key ]=====\n",
    "def squat_to_end(squat,key):\n",
    "    return squat.loc[get_midpoint(squat,start=0,key=key),:]\n",
    "\n",
    "def get_states(squat, key):\n",
    "    \n",
    "    states = []\n",
    "    states.append(starting_position(squat))\n",
    "    states.append(start_to_squat(squat,key))\n",
    "    states.append(squat_position(squat,key))\n",
    "    states.append(squat_to_end(squat,key))\n",
    "    \n",
    "    return states\n"
   ]
  },
  {
   "cell_type": "code",
   "execution_count": 128,
   "metadata": {
    "collapsed": false
   },
   "outputs": [],
   "source": [
    "def extract_stance_straightness(states):\n",
    "    \n",
    "    # Left heels directly under shoulders\n",
    "    left_heels_under_shoulder =[state['AnkleLeftZ'] - state['ShoulderLeftZ'] for state in states]\n",
    "\n",
    "    # Right heels directly under shoulders\n",
    "    right_heels_under_shoulder = [state['AnkleRightZ'] - state['ShoulderRightZ'] for state in states]\n",
    "    return np.concatenate([left_heels_under_shoulder, right_heels_under_shoulder],axis=1)"
   ]
  },
  {
   "cell_type": "code",
   "execution_count": 127,
   "metadata": {
    "collapsed": false
   },
   "outputs": [
    {
     "data": {
      "text/plain": [
       "array([  1.84719789e-04,  -1.50679753e-05,   6.18327868e-05,\n",
       "        -2.32214511e-05,   1.41159098e-04,  -2.64732965e-06,\n",
       "         7.12074593e-05,   1.49846906e-05])"
      ]
     },
     "execution_count": 127,
     "metadata": {},
     "output_type": "execute_result"
    }
   ],
   "source": [
    "extract_stance_straightness(get_states(squat,'NeckY'))"
   ]
  },
  {
   "cell_type": "code",
   "execution_count": 129,
   "metadata": {
    "collapsed": false
   },
   "outputs": [
    {
     "data": {
      "text/plain": [
       "array([  1.84719789e-04,  -1.50679753e-05,   6.18327868e-05,\n",
       "        -2.32214511e-05,   1.41159098e-04,  -2.64732965e-06,\n",
       "         7.12074593e-05,   1.49846906e-05])"
      ]
     },
     "execution_count": 129,
     "metadata": {},
     "output_type": "execute_result"
    }
   ],
   "source": [
    "extract_stance_straightness(get_states(squat,'NeckY'))"
   ]
  },
  {
   "cell_type": "code",
   "execution_count": null,
   "metadata": {
    "collapsed": true
   },
   "outputs": [],
   "source": [
    "def extract_stance_straightness(states):\n",
    "\n",
    "    # W.R.T ALL 4 FRAMES\n",
    "    left_heels_under_shoulder = []\n",
    "    right_heels_under_shoulder = []\n",
    "    for state in states:\n",
    "        # Left heels directly under shoulders\n",
    "        left_heels_under_shoulder.append(state['AnkleLeftZ'] - state['ShoulderLeftZ'])\n",
    "\n",
    "        # Right heels directly under shoulders\n",
    "        right_heels_under_shoulder.append(state['AnkleRightZ'] - state['ShoulderRightZ'])\n",
    "    return np.concatenate([left_heels_under_shoulder, right_heels_under_shoulder],axis=1)"
   ]
  },
  {
   "cell_type": "code",
   "execution_count": 72,
   "metadata": {
    "collapsed": true
   },
   "outputs": [],
   "source": [
    "def extract_stance_shoulder_width(states):\n",
    "    # W.R.T ALL 4 FRAMES\n",
    "   \n",
    "    left_heels_shoulder_apart = [state['AnkleLeftX'] - state['ShoulderLeftX']for state in states]\n",
    "\n",
    "    right_heels_shoulder_apart = [state['AnkleRightX'] - state['ShoulderRightX'] for state in states]\n",
    "    return np.concatenate([left_heels_shoulder_apart, right_heels_shoulder_apart],axis=1)"
   ]
  },
  {
   "cell_type": "code",
   "execution_count": 91,
   "metadata": {
    "collapsed": true
   },
   "outputs": [],
   "source": [
    "def extract_feet(states):\n",
    "\n",
    "    # W.R.T ALL 4 FRAMES    \n",
    "    left_feet_flat = []\n",
    "    right_feet_flat = []\n",
    "    for state in states:\n",
    "        # Left foot flat on floor\n",
    "        left_feet_flat.append(math.pow(state['KneeLeftZ'] - state['AnkleLeftZ'], 2))\n",
    "\n",
    "        # Right foot flat on floor\n",
    "        right_feet_flat.append(math.pow(state['KneeRightZ'] - state['AnkleRightZ'], 2))\n",
    "    return np.concatenate([left_feet_flat, right_feet_flat],axis=1)"
   ]
  },
  {
   "cell_type": "code",
   "execution_count": 106,
   "metadata": {
    "collapsed": true
   },
   "outputs": [],
   "source": [
    "import math\n",
    "def get_angle(state, joint1, joint2, joint3, axis1, axis2):\n",
    "    # Left knee angle - formed by Y,Z coords W.R.T knee\n",
    "    # P12\n",
    "    bone1 = math.sqrt(math.pow(state[joint2 + axis1] - state[joint1 + axis1], 2) + math.pow(state[joint2 + axis2] - state[joint1 + axis2], 2))\n",
    "    # P13\n",
    "    bone2 = math.sqrt(math.pow(state[joint2 + axis1] - state[joint3 + axis1], 2) + math.pow(state[joint2 + axis2] - state[joint3 + axis2], 2))\n",
    "    # P23\n",
    "    distance = math.sqrt(math.pow(state[joint1 + axis1] - state[joint3 + axis1], 2) + math.pow(state[joint1 + axis2] - state[joint3 + axis2], 2))\n",
    "    angle = math.acos((math.pow(bone1, 2) + math.pow(bone2, 2) - math.pow(distance, 2)) / (2 * bone1 * bone2))\n",
    "    return angle\n",
    "\n",
    "def get_angle_changes(angle1, angle2):\n",
    "\n",
    "    assert(len(angle1) == len(angle2))\n",
    "    \n",
    "    full_angle1 = angle1[-1] - angle1[0]\n",
    "    full_angle2 = angle2[-1] - angle2[0]\n",
    "    \n",
    "    ratios=[]\n",
    "    \n",
    "    for time in range(1,len(angle1)):\n",
    "        ratios.append(abs(((angle1[time] - angle1[time-1]) / full_angle1) - (angle2[time] - angle2[time-1]) / full_angle2))\n",
    "        \n",
    "    return ratios\n",
    "\n",
    "\n",
    "def bend_hips_knees(states):\n",
    "\n",
    "    #left knee angle\n",
    "    left_bend_knees = [get_angle(state, 'AnkleLeft','KneeLeft','HipLeft','Y','Z') for state in states]\n",
    "    #left hip angle\n",
    "    left_bend_hips = [get_angle(state,'SpineMid','HipLeft','KneeLeft','Y','Z') for state in states]\n",
    "    #right knee angle\n",
    "    right_bend_knees = [get_angle(state,'AnkleRight','KneeRight','HipRight','Y','Z') for state in states]\n",
    "    #right hip angle\n",
    "    right_bend_hips = [get_angle(state,'SpineMid','HipRight','KneeRight','Y','Z') for state in states]\n",
    "\n",
    "    ratios = np.concatenate([get_angle_changes(left_bend_hips,left_bend_knees),get_angle_changes(right_bend_hips,right_bend_knees)],axis=1)\n",
    "    \n",
    "    return np.concatenate([left_bend_knees, left_bend_hips, right_bend_knees, right_bend_hips, ratios],axis=1)\n",
    "\n"
   ]
  },
  {
   "cell_type": "code",
   "execution_count": 107,
   "metadata": {
    "collapsed": true
   },
   "outputs": [],
   "source": [
    "def back_straight(states):\n",
    "\n",
    "    back_angles = [get_angle(state,'SpineBase','SpineMid','SpineShoulder','Y','Z') for state in states]\n",
    "\n",
    "    avg = np.average(back_angles)\n",
    "    variance = map(lambda x : (x - avg)**2, back_angles)\n",
    "\n",
    "    return np.concatenate([variance, avg], axis=1)\n"
   ]
  },
  {
   "cell_type": "code",
   "execution_count": 118,
   "metadata": {
    "collapsed": true
   },
   "outputs": [],
   "source": [
    "def head_aligned_back(states):\n",
    "\n",
    "    head_angles = [get_angles(state,'Head','Neck','SpineShoulder','Y','Z') for state in states]\n",
    "\n",
    "    avg = np.average(head_angles)\n",
    "    variance = map(lambda x : (x - avg)**2, head_angles)\n",
    "    \n",
    "    return np.concatenate([variance, avg], axis=1)"
   ]
  },
  {
   "cell_type": "code",
   "execution_count": 126,
   "metadata": {
    "collapsed": true
   },
   "outputs": [],
   "source": [
    "def depth(states):\n",
    "    \n",
    "    state = max(states, key=lambda x: x['NeckY'])\n",
    "   \n",
    "    depth_angle = get_angle(state, 'AnkleLeft','KneeLeft','HipLeft','Y','Z')\n",
    "\n",
    "    return np.array([depth_angle, state['HipLeftY'],state['HipRightY']])"
   ]
  },
  {
   "cell_type": "code",
   "execution_count": null,
   "metadata": {
    "collapsed": true
   },
   "outputs": [],
   "source": [
    "def back_hip_angle(states):\n",
    "\n",
    "    slopes = []\n",
    "    \n",
    "    for state in states:\n",
    "        slopes.append(abs(state['NeckY'] - np.average([state['HipLeftY'], state['HipRightY']])) / (state['NeckZ'] - np.average([state['HipLeftZ'], state['HipRightZ']])))\n",
    "        \n",
    "    return np.array(slopes)\n"
   ]
  }
 ],
 "metadata": {
  "kernelspec": {
   "display_name": "Python 2",
   "language": "python",
   "name": "python2"
  },
  "language_info": {
   "codemirror_mode": {
    "name": "ipython",
    "version": 2
   },
   "file_extension": ".py",
   "mimetype": "text/x-python",
   "name": "python",
   "nbconvert_exporter": "python",
   "pygments_lexer": "ipython2",
   "version": "2.7.10"
  }
 },
 "nbformat": 4,
 "nbformat_minor": 0
}
