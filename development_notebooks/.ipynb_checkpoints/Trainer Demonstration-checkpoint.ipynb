{
 "cells": [
  {
   "cell_type": "code",
   "execution_count": 1,
   "metadata": {
    "collapsed": false
   },
   "outputs": [],
   "source": [
    "%load_ext autoreload\n",
    "%autoreload 2\n",
    "\n",
    "import sys\n",
    "sys.path.append('..')\n",
    "from ai_trainer import Personal_Trainer\n",
    "\n",
    "pt = Personal_Trainer({'squat':'NeckY','pushup':'NeckY'}, auto_start=True)"
   ]
  },
  {
   "cell_type": "code",
   "execution_count": 3,
   "metadata": {
    "collapsed": false
   },
   "outputs": [
    {
     "name": "stdout",
     "output_type": "stream",
     "text": [
      "[SUCCESS] ---------- > Reps segmented and normalized for squat\n",
      "[SUCCESS] ---------- > Features extracted for squat\n",
      "[SUCCESS] ---------- > bend_hips_knees: reps classified\n",
      "\n",
      "bend_hips_knees :\n",
      "[0 0 0 0 0 0 0 0 0 0] \n",
      "\n",
      "[SUCCESS] ---------- > stance_width: reps classified\n",
      "\n",
      "stance_width :\n",
      "[-1  0 -1 -1  0  0  0  0  0  0] \n",
      "\n",
      "[SUCCESS] ---------- > squat_depth: reps classified\n",
      "\n",
      "squat_depth :\n",
      "[1 0 1 1 1 0 0 0 0 0] \n",
      "\n",
      "[SUCCESS] ---------- > knees_over_toes: reps classified\n",
      "\n",
      "knees_over_toes :\n",
      "[1 1 1 0 1 1 1 1 1 1] \n",
      "\n",
      "[SUCCESS] ---------- > back_hip_angle: reps classified\n",
      "\n",
      "back_hip_angle :\n",
      "[ 0  0  0  1  0  0  1  0 -1  0] \n",
      "\n",
      "A total of 10 reps were analyzed\n",
      "\n",
      "\n",
      "Major Problems:\n",
      "\n",
      "Knee and Toe Alignment:keep your knees behind your toes\n",
      "\n",
      "\n",
      "\n",
      "Minor Problems:\n",
      "\n",
      "Stance:keep feet shoulder width apart\n",
      "Depth:go deep on the squat\n",
      "\n",
      "\n",
      "\n",
      "Strengths:\n",
      "\n",
      "Hip and Knee Coordination\n",
      "\n"
     ]
    }
   ],
   "source": [
    "pt.analyze_reps('squat','../data/raw_data/squat_pushupData_10to20/squatData15.txt',auto_analyze=True, verbose=True)"
   ]
  },
  {
   "cell_type": "code",
   "execution_count": null,
   "metadata": {
    "collapsed": true
   },
   "outputs": [],
   "source": []
  }
 ],
 "metadata": {
  "kernelspec": {
   "display_name": "Python 2",
   "language": "python",
   "name": "python2"
  },
  "language_info": {
   "codemirror_mode": {
    "name": "ipython",
    "version": 2
   },
   "file_extension": ".py",
   "mimetype": "text/x-python",
   "name": "python",
   "nbconvert_exporter": "python",
   "pygments_lexer": "ipython2",
   "version": "2.7.10"
  }
 },
 "nbformat": 4,
 "nbformat_minor": 0
}
