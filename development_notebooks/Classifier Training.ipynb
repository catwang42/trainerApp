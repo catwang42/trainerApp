{
 "cells": [
  {
   "cell_type": "code",
   "execution_count": 1,
   "metadata": {
    "collapsed": false
   },
   "outputs": [],
   "source": [
    "import sys\n",
    "\n",
    "sys.path.append('../data')\n",
    "sys.path.append('..')\n",
    "sys.path.append('../inference')\n",
    "sys.path.append('../feedback')\n",
    "\n",
    "import numpy as np\n",
    "import pandas as pd\n",
    "import matplotlib.pyplot as plt\n",
    "from ai_trainer import Personal_Trainer\n",
    "import squat_separation as ss\n",
    "import pickle\n",
    "import os\n",
    "import random as rnd\n",
    "from collections import defaultdict\n",
    "import utils as ut\n",
    "\n",
    "#import classification\n",
    "import classification_ftopt\n",
    "\n",
    "%matplotlib inline\n"
   ]
  },
  {
   "cell_type": "markdown",
   "metadata": {},
   "source": [
    "#Train Classifiers"
   ]
  },
  {
   "cell_type": "code",
   "execution_count": 2,
   "metadata": {
    "collapsed": false
   },
   "outputs": [
    {
     "name": "stdout",
     "output_type": "stream",
     "text": [
      "[SUCCESS] ---------- > Training data loaded\n",
      "[SUCCESS] ---------- > Classifiers stored for pushup\n",
      "[SUCCESS] ---------- > Classifiers trained\n"
     ]
    }
   ],
   "source": [
    "pt = Personal_Trainer({'squat':'NeckY', 'pushup':'NeckY'})\n",
    "\n",
    "try:\n",
    "    pt.load_reps('pushup',os.path.join('../data/data_sets','pushupDataSet109.p'))\n",
    "#     pt.load_reps(os.path.join('../data/data_sets','pushupDataSet109.p'))\n",
    "    ut.print_success('Training data loaded')\n",
    "    try:\n",
    "        pt.set_classifiers('pushup',classification_ftopt.train_pushup_classifiers(pt))\n",
    "#         pt.set_classifiers(classification.train_pushup_classifiers(pt))\n",
    "        ut.print_success('Classifiers trained')\n",
    "    except Exception as e:\n",
    "        ut.print_failure('Could not train classifiers' + str(e))\n",
    "except Exception as e:\n",
    "    ut.print_failure('Could not load training data:' + str(e))"
   ]
  },
  {
   "cell_type": "markdown",
   "metadata": {},
   "source": [
    "#Store Classifiers"
   ]
  },
  {
   "cell_type": "code",
   "execution_count": 3,
   "metadata": {
    "collapsed": false
   },
   "outputs": [],
   "source": [
    "classifiers = pt.get_classifiers('pushup')\n",
    "pickle.dump(classifiers,open('pushup_classifiers_ftopt.p','wb'))"
   ]
  },
  {
   "cell_type": "code",
   "execution_count": null,
   "metadata": {
    "collapsed": true
   },
   "outputs": [],
   "source": []
  }
 ],
 "metadata": {
  "kernelspec": {
   "display_name": "Python 2",
   "language": "python",
   "name": "python2"
  },
  "language_info": {
   "codemirror_mode": {
    "name": "ipython",
    "version": 2
   },
   "file_extension": ".py",
   "mimetype": "text/x-python",
   "name": "python",
   "nbconvert_exporter": "python",
   "pygments_lexer": "ipython2",
   "version": "2.7.10"
  }
 },
 "nbformat": 4,
 "nbformat_minor": 0
}
